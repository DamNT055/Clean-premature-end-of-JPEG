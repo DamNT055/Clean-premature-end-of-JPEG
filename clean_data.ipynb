{
 "cells": [
  {
   "cell_type": "code",
   "execution_count": 52,
   "metadata": {},
   "outputs": [],
   "source": [
    "import os\n",
    "import pandas as pd\n",
    "import numpy as np\n",
    "from PIL import Image\n",
    "import cv2"
   ]
  },
  {
   "cell_type": "code",
   "execution_count": 53,
   "metadata": {},
   "outputs": [],
   "source": [
    "PATH = os.path.join(os.getcwd(), 'SKU110K', 'annotations', 'annotations_test.csv')\n",
    "PATH = \"D:/CAPSTONE/SKU110K_CVPR19/annotations_clean/annation_new_val_2023-10-19_23_30_15_260409.csv\"\n",
    "df = pd.read_csv(PATH,  names=['img_name', 'x1', 'y1', 'x2', 'y2', 'class', 'width', 'height'])"
   ]
  },
  {
   "cell_type": "code",
   "execution_count": 54,
   "metadata": {},
   "outputs": [
    {
     "data": {
      "text/html": [
       "<div>\n",
       "<style scoped>\n",
       "    .dataframe tbody tr th:only-of-type {\n",
       "        vertical-align: middle;\n",
       "    }\n",
       "\n",
       "    .dataframe tbody tr th {\n",
       "        vertical-align: top;\n",
       "    }\n",
       "\n",
       "    .dataframe thead th {\n",
       "        text-align: right;\n",
       "    }\n",
       "</style>\n",
       "<table border=\"1\" class=\"dataframe\">\n",
       "  <thead>\n",
       "    <tr style=\"text-align: right;\">\n",
       "      <th></th>\n",
       "      <th>img_name</th>\n",
       "      <th>x1</th>\n",
       "      <th>y1</th>\n",
       "      <th>x2</th>\n",
       "      <th>y2</th>\n",
       "      <th>class</th>\n",
       "      <th>width</th>\n",
       "      <th>height</th>\n",
       "    </tr>\n",
       "  </thead>\n",
       "  <tbody>\n",
       "    <tr>\n",
       "      <th>0</th>\n",
       "      <td>val_1.jpg</td>\n",
       "      <td>1194</td>\n",
       "      <td>294</td>\n",
       "      <td>1292</td>\n",
       "      <td>681</td>\n",
       "      <td>object</td>\n",
       "      <td>2448</td>\n",
       "      <td>3264</td>\n",
       "    </tr>\n",
       "    <tr>\n",
       "      <th>1</th>\n",
       "      <td>val_1.jpg</td>\n",
       "      <td>2102</td>\n",
       "      <td>468</td>\n",
       "      <td>2303</td>\n",
       "      <td>708</td>\n",
       "      <td>object</td>\n",
       "      <td>2448</td>\n",
       "      <td>3264</td>\n",
       "    </tr>\n",
       "    <tr>\n",
       "      <th>2</th>\n",
       "      <td>val_1.jpg</td>\n",
       "      <td>1847</td>\n",
       "      <td>377</td>\n",
       "      <td>1964</td>\n",
       "      <td>701</td>\n",
       "      <td>object</td>\n",
       "      <td>2448</td>\n",
       "      <td>3264</td>\n",
       "    </tr>\n",
       "    <tr>\n",
       "      <th>3</th>\n",
       "      <td>val_1.jpg</td>\n",
       "      <td>1687</td>\n",
       "      <td>357</td>\n",
       "      <td>1791</td>\n",
       "      <td>673</td>\n",
       "      <td>object</td>\n",
       "      <td>2448</td>\n",
       "      <td>3264</td>\n",
       "    </tr>\n",
       "    <tr>\n",
       "      <th>4</th>\n",
       "      <td>val_1.jpg</td>\n",
       "      <td>1585</td>\n",
       "      <td>372</td>\n",
       "      <td>1661</td>\n",
       "      <td>701</td>\n",
       "      <td>object</td>\n",
       "      <td>2448</td>\n",
       "      <td>3264</td>\n",
       "    </tr>\n",
       "  </tbody>\n",
       "</table>\n",
       "</div>"
      ],
      "text/plain": [
       "    img_name    x1   y1    x2   y2   class  width  height\n",
       "0  val_1.jpg  1194  294  1292  681  object   2448    3264\n",
       "1  val_1.jpg  2102  468  2303  708  object   2448    3264\n",
       "2  val_1.jpg  1847  377  1964  701  object   2448    3264\n",
       "3  val_1.jpg  1687  357  1791  673  object   2448    3264\n",
       "4  val_1.jpg  1585  372  1661  701  object   2448    3264"
      ]
     },
     "execution_count": 54,
     "metadata": {},
     "output_type": "execute_result"
    }
   ],
   "source": [
    "df.head()"
   ]
  },
  {
   "cell_type": "code",
   "execution_count": 55,
   "metadata": {},
   "outputs": [
    {
     "name": "stdout",
     "output_type": "stream",
     "text": [
      "<class 'pandas.core.frame.DataFrame'>\n",
      "RangeIndex: 86118 entries, 0 to 86117\n",
      "Data columns (total 8 columns):\n",
      "img_name    86118 non-null object\n",
      "x1          86118 non-null int64\n",
      "y1          86118 non-null int64\n",
      "x2          86118 non-null int64\n",
      "y2          86118 non-null int64\n",
      "class       86118 non-null object\n",
      "width       86118 non-null int64\n",
      "height      86118 non-null int64\n",
      "dtypes: int64(6), object(2)\n",
      "memory usage: 5.3+ MB\n"
     ]
    }
   ],
   "source": [
    "df.info()"
   ]
  },
  {
   "cell_type": "code",
   "execution_count": 56,
   "metadata": {},
   "outputs": [],
   "source": [
    "base_dir = os.path.join(os.getcwd(),'SKU110K','images')"
   ]
  },
  {
   "cell_type": "code",
   "execution_count": 57,
   "metadata": {},
   "outputs": [],
   "source": [
    "err_img = []"
   ]
  },
  {
   "cell_type": "code",
   "execution_count": 58,
   "metadata": {},
   "outputs": [],
   "source": [
    "\n",
    "for img in df.img_name.unique():\n",
    "    file_pth = os.path.join(base_dir, img)\n",
    "    if os.path.isfile(file_pth):\n",
    "        with open(file_pth, 'rb') as file:\n",
    "            check_chars = file.read()[-2:]  \n",
    "        if check_chars != b'\\xff\\xd9': \n",
    "            print('Not complete image: ', img)\n",
    "            err_img.append(img)\n",
    "    else: err_img.append(img)"
   ]
  },
  {
   "cell_type": "code",
   "execution_count": 59,
   "metadata": {},
   "outputs": [
    {
     "data": {
      "text/plain": [
       "0"
      ]
     },
     "execution_count": 59,
     "metadata": {},
     "output_type": "execute_result"
    }
   ],
   "source": [
    "len(err_img)"
   ]
  },
  {
   "cell_type": "code",
   "execution_count": 29,
   "metadata": {},
   "outputs": [],
   "source": [
    "for img in err_img:\n",
    "    img_path = os.path.join(base_dir, img)\n",
    "    if os.path.isfile(img_path): \n",
    "        os.remove(img_path)\n",
    "        print('remove success: ', img)"
   ]
  },
  {
   "cell_type": "code",
   "execution_count": 30,
   "metadata": {},
   "outputs": [],
   "source": [
    "mask = df['img_name'].isin(err_img)"
   ]
  },
  {
   "cell_type": "code",
   "execution_count": 31,
   "metadata": {},
   "outputs": [
    {
     "data": {
      "text/plain": [
       "0         False\n",
       "1         False\n",
       "2         False\n",
       "3         False\n",
       "4         False\n",
       "5         False\n",
       "6         False\n",
       "7         False\n",
       "8         False\n",
       "9         False\n",
       "10        False\n",
       "11        False\n",
       "12        False\n",
       "13        False\n",
       "14        False\n",
       "15        False\n",
       "16        False\n",
       "17        False\n",
       "18        False\n",
       "19        False\n",
       "20        False\n",
       "21        False\n",
       "22        False\n",
       "23        False\n",
       "24        False\n",
       "25        False\n",
       "26        False\n",
       "27        False\n",
       "28        False\n",
       "29        False\n",
       "          ...  \n",
       "404996    False\n",
       "404997    False\n",
       "404998    False\n",
       "404999    False\n",
       "405000    False\n",
       "405001    False\n",
       "405002    False\n",
       "405003    False\n",
       "405004    False\n",
       "405005    False\n",
       "405006    False\n",
       "405007    False\n",
       "405008    False\n",
       "405009    False\n",
       "405010    False\n",
       "405011    False\n",
       "405012    False\n",
       "405013    False\n",
       "405014    False\n",
       "405015    False\n",
       "405016    False\n",
       "405017    False\n",
       "405018    False\n",
       "405019    False\n",
       "405020    False\n",
       "405021    False\n",
       "405022    False\n",
       "405023    False\n",
       "405024    False\n",
       "405025    False\n",
       "Name: img_name, Length: 405026, dtype: bool"
      ]
     },
     "execution_count": 31,
     "metadata": {},
     "output_type": "execute_result"
    }
   ],
   "source": [
    "mask"
   ]
  },
  {
   "cell_type": "code",
   "execution_count": 32,
   "metadata": {},
   "outputs": [],
   "source": [
    "df_new = df[~mask]"
   ]
  },
  {
   "cell_type": "code",
   "execution_count": 33,
   "metadata": {},
   "outputs": [
    {
     "name": "stdout",
     "output_type": "stream",
     "text": [
      "<class 'pandas.core.frame.DataFrame'>\n",
      "Int64Index: 405026 entries, 0 to 405025\n",
      "Data columns (total 8 columns):\n",
      "img_name    405026 non-null object\n",
      "x1          405026 non-null int64\n",
      "y1          405026 non-null int64\n",
      "x2          405026 non-null int64\n",
      "y2          405026 non-null int64\n",
      "class       405026 non-null object\n",
      "width       405026 non-null int64\n",
      "height      405026 non-null int64\n",
      "dtypes: int64(6), object(2)\n",
      "memory usage: 27.8+ MB\n"
     ]
    }
   ],
   "source": [
    "df_new.info()"
   ]
  },
  {
   "cell_type": "code",
   "execution_count": 34,
   "metadata": {},
   "outputs": [],
   "source": [
    "from datetime import datetime\n",
    "prev_name = 'test'\n",
    "time_now = str(datetime.now()).replace(' ', '_').replace('.','_').replace(':','_')\n",
    "df_new.to_csv('D:/CAPSTONE/SKU110K_CVPR19/annotations_clean/annation_new_{}_{}.csv'.format(prev_name, time_now), header=False, index=False)"
   ]
  },
  {
   "cell_type": "code",
   "execution_count": 18,
   "metadata": {},
   "outputs": [],
   "source": [
    "import pandas as pd\n",
    "df2 = pd.read_csv(\"D:\\\\CAPSTONE\\\\SKU110K_CVPR19\\\\annotations_clean\\\\annation_new_val_2023-10-19_23_30_15_260409.csv\")"
   ]
  },
  {
   "cell_type": "code",
   "execution_count": 19,
   "metadata": {},
   "outputs": [
    {
     "data": {
      "text/html": [
       "<div>\n",
       "<style scoped>\n",
       "    .dataframe tbody tr th:only-of-type {\n",
       "        vertical-align: middle;\n",
       "    }\n",
       "\n",
       "    .dataframe tbody tr th {\n",
       "        vertical-align: top;\n",
       "    }\n",
       "\n",
       "    .dataframe thead th {\n",
       "        text-align: right;\n",
       "    }\n",
       "</style>\n",
       "<table border=\"1\" class=\"dataframe\">\n",
       "  <thead>\n",
       "    <tr style=\"text-align: right;\">\n",
       "      <th></th>\n",
       "      <th>val_1.jpg</th>\n",
       "      <th>1194</th>\n",
       "      <th>294</th>\n",
       "      <th>1292</th>\n",
       "      <th>681</th>\n",
       "      <th>object</th>\n",
       "      <th>2448</th>\n",
       "      <th>3264</th>\n",
       "    </tr>\n",
       "  </thead>\n",
       "  <tbody>\n",
       "    <tr>\n",
       "      <th>0</th>\n",
       "      <td>val_1.jpg</td>\n",
       "      <td>2102</td>\n",
       "      <td>468</td>\n",
       "      <td>2303</td>\n",
       "      <td>708</td>\n",
       "      <td>object</td>\n",
       "      <td>2448</td>\n",
       "      <td>3264</td>\n",
       "    </tr>\n",
       "    <tr>\n",
       "      <th>1</th>\n",
       "      <td>val_1.jpg</td>\n",
       "      <td>1847</td>\n",
       "      <td>377</td>\n",
       "      <td>1964</td>\n",
       "      <td>701</td>\n",
       "      <td>object</td>\n",
       "      <td>2448</td>\n",
       "      <td>3264</td>\n",
       "    </tr>\n",
       "    <tr>\n",
       "      <th>2</th>\n",
       "      <td>val_1.jpg</td>\n",
       "      <td>1687</td>\n",
       "      <td>357</td>\n",
       "      <td>1791</td>\n",
       "      <td>673</td>\n",
       "      <td>object</td>\n",
       "      <td>2448</td>\n",
       "      <td>3264</td>\n",
       "    </tr>\n",
       "    <tr>\n",
       "      <th>3</th>\n",
       "      <td>val_1.jpg</td>\n",
       "      <td>1585</td>\n",
       "      <td>372</td>\n",
       "      <td>1661</td>\n",
       "      <td>701</td>\n",
       "      <td>object</td>\n",
       "      <td>2448</td>\n",
       "      <td>3264</td>\n",
       "    </tr>\n",
       "    <tr>\n",
       "      <th>4</th>\n",
       "      <td>val_1.jpg</td>\n",
       "      <td>1436</td>\n",
       "      <td>307</td>\n",
       "      <td>1545</td>\n",
       "      <td>693</td>\n",
       "      <td>object</td>\n",
       "      <td>2448</td>\n",
       "      <td>3264</td>\n",
       "    </tr>\n",
       "  </tbody>\n",
       "</table>\n",
       "</div>"
      ],
      "text/plain": [
       "   val_1.jpg  1194  294  1292  681  object  2448  3264\n",
       "0  val_1.jpg  2102  468  2303  708  object  2448  3264\n",
       "1  val_1.jpg  1847  377  1964  701  object  2448  3264\n",
       "2  val_1.jpg  1687  357  1791  673  object  2448  3264\n",
       "3  val_1.jpg  1585  372  1661  701  object  2448  3264\n",
       "4  val_1.jpg  1436  307  1545  693  object  2448  3264"
      ]
     },
     "execution_count": 19,
     "metadata": {},
     "output_type": "execute_result"
    }
   ],
   "source": [
    "df2.head()"
   ]
  },
  {
   "cell_type": "code",
   "execution_count": 20,
   "metadata": {},
   "outputs": [
    {
     "name": "stdout",
     "output_type": "stream",
     "text": [
      "<class 'pandas.core.frame.DataFrame'>\n",
      "RangeIndex: 86117 entries, 0 to 86116\n",
      "Data columns (total 8 columns):\n",
      "val_1.jpg    86117 non-null object\n",
      "1194         86117 non-null int64\n",
      "294          86117 non-null int64\n",
      "1292         86117 non-null int64\n",
      "681          86117 non-null int64\n",
      "object       86117 non-null object\n",
      "2448         86117 non-null int64\n",
      "3264         86117 non-null int64\n",
      "dtypes: int64(6), object(2)\n",
      "memory usage: 5.3+ MB\n"
     ]
    }
   ],
   "source": [
    "df2.info()"
   ]
  },
  {
   "cell_type": "code",
   "execution_count": null,
   "metadata": {},
   "outputs": [],
   "source": []
  }
 ],
 "metadata": {
  "kernelspec": {
   "display_name": "Python 3.7.16 ('env37')",
   "language": "python",
   "name": "python3"
  },
  "language_info": {
   "codemirror_mode": {
    "name": "ipython",
    "version": 3
   },
   "file_extension": ".py",
   "mimetype": "text/x-python",
   "name": "python",
   "nbconvert_exporter": "python",
   "pygments_lexer": "ipython3",
   "version": "3.7.16"
  },
  "orig_nbformat": 4,
  "vscode": {
   "interpreter": {
    "hash": "3be4a188ed8832d67ecd8c3c6ad524226152f20301e616266b2fac00b7d13168"
   }
  }
 },
 "nbformat": 4,
 "nbformat_minor": 2
}
